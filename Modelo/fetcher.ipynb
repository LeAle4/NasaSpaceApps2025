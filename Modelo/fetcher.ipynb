{
 "cells": [
  {
   "cell_type": "code",
   "execution_count": 2,
   "id": "f585c183",
   "metadata": {},
   "outputs": [],
   "source": [
    "import pandas as pd\n",
    "import pyvo as vo"
   ]
  },
  {
   "cell_type": "code",
   "execution_count": null,
   "id": "8e69274c",
   "metadata": {},
   "outputs": [],
   "source": [
    "def query_url(url: str, query: str) -> pd.DataFrame:\n",
    "    service = vo.dal.TAPService(url)\n",
    "    result = service.search(query)\n",
    "    return result.to_table().to_pandas()"
   ]
  }
 ],
 "metadata": {
  "kernelspec": {
   "display_name": ".venv",
   "language": "python",
   "name": "python3"
  },
  "language_info": {
   "codemirror_mode": {
    "name": "ipython",
    "version": 3
   },
   "file_extension": ".py",
   "mimetype": "text/x-python",
   "name": "python",
   "nbconvert_exporter": "python",
   "pygments_lexer": "ipython3",
   "version": "3.13.7"
  }
 },
 "nbformat": 4,
 "nbformat_minor": 5
}
