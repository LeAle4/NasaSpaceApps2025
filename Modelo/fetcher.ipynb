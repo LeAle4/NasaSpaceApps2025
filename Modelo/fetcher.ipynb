{
 "cells": [
  {
   "cell_type": "code",
   "execution_count": 2,
   "id": "f585c183",
   "metadata": {},
   "outputs": [],
   "source": [
    "import pandas as pd\n",
    "import pyvo as vo"
   ]
  },
  {
   "cell_type": "code",
   "execution_count": null,
   "id": "8e69274c",
   "metadata": {},
   "outputs": [],
   "source": [
    "# Función para consultar a un servicio TAP y devuelve un DataFrame de pandas\n",
    "def query_url(url: str, query: str) -> pd.DataFrame:\n",
    "    \"\"\"\n",
    "    Consulta un servicio TAP y devuelve un DataFrame de pandas.\n",
    "    \n",
    "    Args:\n",
    "        url (str): URL del servicio TAP\n",
    "        query (str): Consulta ADQL/SQL para ejecutar\n",
    "        \n",
    "    Returns:\n",
    "        pd.DataFrame: DataFrame con los resultados o DataFrame vacío si hay errores\n",
    "    \"\"\"\n",
    "    # Validación inicial de parámetros\n",
    "    if not url or not isinstance(url, str):\n",
    "        return pd.DataFrame(), 0, \"Invalid URL\"\n",
    "    \n",
    "    if not query or not isinstance(query, str):\n",
    "        return pd.DataFrame(), 0, \"Invalid query\"\n",
    "    \n",
    "    # Validación básica de formato URL\n",
    "    if not (url.startswith('http://') or url.startswith('https://')):\n",
    "        return pd.DataFrame(), 0, \"Invalid URL format\"\n",
    "\n",
    "    try:\n",
    "        # Intentar crear el servicio TAP\n",
    "        service = vo.dal.TAPService(url)\n",
    "        \n",
    "        # Verificar si el servicio está disponible\n",
    "        if not hasattr(service, 'search'):\n",
    "            return pd.DataFrame(), 0, \"Service not available\"\n",
    "        \n",
    "        # Ejecutar la consulta\n",
    "        result = service.search(query)\n",
    "        \n",
    "        # Verificar si hay resultados\n",
    "        if result is None:\n",
    "            return pd.DataFrame(), 0, \"No results found\"\n",
    "        \n",
    "        # Convertir a pandas DataFrame\n",
    "        df = result.to_table().to_pandas()\n",
    "\n",
    "        return df, 1, None\n",
    "        \n",
    "    except (vo.dal.DALServiceError, vo.dal.DALQueryError, Exception):\n",
    "        # En caso de cualquier error, retornar DataFrame vacío\n",
    "        return pd.DataFrame(), 0, \"Consult Error\""
   ]
  }
 ],
 "metadata": {
  "kernelspec": {
   "display_name": ".venv",
   "language": "python",
   "name": "python3"
  },
  "language_info": {
   "codemirror_mode": {
    "name": "ipython",
    "version": 3
   },
   "file_extension": ".py",
   "mimetype": "text/x-python",
   "name": "python",
   "nbconvert_exporter": "python",
   "pygments_lexer": "ipython3",
   "version": "3.13.7"
  }
 },
 "nbformat": 4,
 "nbformat_minor": 5
}
