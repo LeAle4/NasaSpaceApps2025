{
 "cells": [
  {
   "cell_type": "code",
   "execution_count": 1,
   "id": "d1830ad7",
   "metadata": {},
   "outputs": [],
   "source": [
    "import dataio\n",
    "import pandas as pd"
   ]
  },
  {
   "cell_type": "code",
   "execution_count": 2,
   "id": "08155af1",
   "metadata": {},
   "outputs": [],
   "source": [
    "result, _, _ = dataio.query_tap_service(\"https://exoplanetarchive.ipac.caltech.edu/TAP\", \"SELECT * FROM cumulative\")"
   ]
  },
  {
   "cell_type": "code",
   "execution_count": null,
   "id": "a0c09605",
   "metadata": {},
   "outputs": [],
   "source": [
    "result.to_csv(\"koi_exoplanets.csv\", index=False)"
   ]
  }
 ],
 "metadata": {
  "kernelspec": {
   "display_name": ".venv",
   "language": "python",
   "name": "python3"
  },
  "language_info": {
   "codemirror_mode": {
    "name": "ipython",
    "version": 3
   },
   "file_extension": ".py",
   "mimetype": "text/x-python",
   "name": "python",
   "nbconvert_exporter": "python",
   "pygments_lexer": "ipython3",
   "version": "3.13.7"
  }
 },
 "nbformat": 4,
 "nbformat_minor": 5
}
